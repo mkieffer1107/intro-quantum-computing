{
 "cells": [
  {
   "cell_type": "code",
   "execution_count": null,
   "metadata": {},
   "outputs": [],
   "source": [
    "from ibm_quantum_widgets import CircuitComposer\n",
    "from qiskit import QuantumRegister, ClassicalRegister, QuantumCircuit\n",
    "from numpy import pi\n",
    "\n",
    "# create registers and quantum circuit\n",
    "qreg_q = QuantumRegister(4, 'q')\n",
    "creg_c = ClassicalRegister(4, 'c')\n",
    "circuit = QuantumCircuit(qreg_q, creg_c)\n",
    "\n",
    "editor = CircuitComposer(circuit=circuit)\n",
    "# editor # this actually brings up a circuit editor"
   ]
  },
  {
   "cell_type": "code",
   "execution_count": null,
   "metadata": {},
   "outputs": [],
   "source": [
    "# QFT\n",
    "\n",
    "# number of qubits\n",
    "n = 4\n",
    "\n",
    "# iterate through each target qubit from (n-1) to 0\n",
    "for target in range(n-1,-1,-1): # the (start, -1: go to end of list, -1: do this in revers)\n",
    "    # apply the Hadamard gate\n",
    "    circuit.h(target)\n",
    "    \n",
    "    # iterate through the control qubits from (target-1) to 0\n",
    "    for control in range(target-1, -1, -1):\n",
    "        # calculate \"r\", the rotation by 2pi/(2^r)\n",
    "        r = target - control + 1\n",
    "        \n",
    "        # apply the controlled phase/rotation\n",
    "        circuit.cp(2*pi/2**r, control, target)\n",
    "\n",
    "# swap the qubits\n",
    "for qubit in range(n//2): # floor division\n",
    "    circuit.swap(qubit, n - qubit - 1)\n",
    "    \n",
    "circuit.draw()"
   ]
  },
  {
   "cell_type": "code",
   "execution_count": null,
   "metadata": {},
   "outputs": [],
   "source": [
    "# add on IQFT at the end of QFT circuit\n",
    "\n",
    "# number of qubits\n",
    "n = 4\n",
    "\n",
    "# swap the qubits\n",
    "for qubit in range(n//2): # floor division\n",
    "    circuit.swap(qubit, n - qubit - 1)\n",
    "\n",
    "# iterate through each target qubit from 0 to (n-1)\n",
    "for target in range(n): \n",
    "     # iterate through the control qubits from (target-1) to 0\n",
    "    for control in range(target):\n",
    "        # calculate \"r\", the rotation by -2pi/(2^r)\n",
    "        r = target - control + 1\n",
    "        \n",
    "        # apply the controlled phase/rotation\n",
    "        circuit.cp(-2*pi/2**r, control, target)\n",
    "    \n",
    "    # apply the Hadamard gate\n",
    "    circuit.h(target)\n",
    "    \n",
    "circuit.draw()"
   ]
  }
 ],
 "metadata": {
  "language_info": {
   "name": "python"
  },
  "orig_nbformat": 4
 },
 "nbformat": 4,
 "nbformat_minor": 2
}
