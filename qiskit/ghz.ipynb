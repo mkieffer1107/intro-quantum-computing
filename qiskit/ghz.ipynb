{
 "cells": [
  {
   "cell_type": "code",
   "execution_count": null,
   "metadata": {},
   "outputs": [],
   "source": [
    "from ibm_quantum_widgets import CircuitComposer\n",
    "\n",
    "# Greenberger-Horne-Zeiliger state (GHZ state, entangled)\n",
    "\n",
    "from qiskit import QuantumRegister, ClassicalRegister, QuantumCircuit\n",
    "from numpy import pi\n",
    "\n",
    "# define quantum and classical registers\n",
    "# q: |q2>|q1>|q0> == |q2,q1,q0> (qubits)\n",
    "# c: c2, c1, c0 (bits)\n",
    "qreg_q = QuantumRegister(3, 'q')\n",
    "creg_c0 = ClassicalRegister(3, 'c0')\n",
    "circuit = QuantumCircuit(qreg_q, creg_c0)\n",
    "\n",
    "# hadamard gate\n",
    "circuit.h(qreg_q[2])\n",
    "\n",
    "# cnot with |q2> as control and |q1> as target\n",
    "circuit.cx(qreg_q[2], qreg_q[1])\n",
    "\n",
    "# cnot with |q2> as control and |q0> as target\n",
    "circuit.cx(qreg_q[2], qreg_q[0])\n",
    "\n",
    "# measure |q> and store in classical register: |qi> --> ci\n",
    "circuit.measure(qreg_q[0], creg_c0[0])\n",
    "circuit.measure(qreg_q[1], creg_c0[1])\n",
    "circuit.measure(qreg_q[2], creg_c0[2])\n",
    "\n",
    "editor = CircuitComposer(circuit=circuit)\n",
    "editor"
   ]
  },
  {
   "cell_type": "code",
   "execution_count": null,
   "metadata": {},
   "outputs": [],
   "source": []
  }
 ],
 "metadata": {
  "kernelspec": {
   "display_name": "base",
   "language": "python",
   "name": "python3"
  },
  "language_info": {
   "codemirror_mode": {
    "name": "ipython",
    "version": 3
   },
   "file_extension": ".py",
   "mimetype": "text/x-python",
   "name": "python",
   "nbconvert_exporter": "python",
   "pygments_lexer": "ipython3",
   "version": "3.9.7 | packaged by conda-forge | (default, Sep 29 2021, 19:24:02) \n[Clang 11.1.0 ]"
  },
  "orig_nbformat": 4,
  "vscode": {
   "interpreter": {
    "hash": "70eba54aa6d87e27d6944d16160f2794e0107e860413967f2081ef6477871e6e"
   }
  }
 },
 "nbformat": 4,
 "nbformat_minor": 2
}
